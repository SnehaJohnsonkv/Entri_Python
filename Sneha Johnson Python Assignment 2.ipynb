{
  "cells": [
    {
      "cell_type": "code",
      "execution_count": null,
      "id": "fee89fff",
      "metadata": {
        "colab": {
          "base_uri": "https://localhost:8080/"
        },
        "id": "fee89fff",
        "outputId": "67228b4e-83f3-4656-edcc-58a0cabde373"
      },
      "outputs": [
        {
          "output_type": "stream",
          "name": "stdout",
          "text": [
            "Enter the number: 100\n",
            "The number is not divisible by 7 but is a multiple of 5\n"
          ]
        }
      ],
      "source": [
        "num=int(input('Enter the number: '));\n",
        "if num%7==0 and num%5==0:\n",
        "    print('The number is divisible by 7 and is a multiple of 5');\n",
        "\n",
        "elif num%7==0 and num%5!=0:\n",
        "    print('The number is divisible by 7 but is not a multiple of 5');\n",
        "\n",
        "elif num%7!=0 and num%5==0:\n",
        "    print('The number is not divisible by 7 but is a multiple of 5');\n",
        "\n",
        "else:\n",
        "    print('The number is not divisible by 7 and is not a multiple of 5');\n"
      ]
    },
    {
      "cell_type": "code",
      "execution_count": null,
      "id": "5a3066de",
      "metadata": {
        "colab": {
          "base_uri": "https://localhost:8080/"
        },
        "id": "5a3066de",
        "outputId": "ee006fcf-9dd1-4bc0-ff86-6f80a24ef8ad"
      },
      "outputs": [
        {
          "output_type": "stream",
          "name": "stdout",
          "text": [
            "Enter the number: 100\n",
            "The number is not divisible by 7 but is a multiple of 5\n"
          ]
        }
      ],
      "source": [
        "num=int(input('Enter the number: '));\n",
        "\n",
        "if num%7==0 and num%5 ==0:\n",
        "    print('The number is divisible by 7 and is a multiple of 5');\n",
        "\n",
        "elif num%7==0 and num%5 !=0:\n",
        "    print('The number is divisible by 7 but is not a multiple of 5');\n",
        "\n",
        "elif num%7!=0 and num%5 ==0:\n",
        "    print('The number is not divisible by 7 but is a multiple of 5');\n",
        "\n",
        "else:\n",
        "    print('The number is not divisible by 7 and is not a multiple of 5');\n",
        "\n"
      ]
    },
    {
      "cell_type": "code",
      "execution_count": null,
      "id": "c9ac554c",
      "metadata": {
        "colab": {
          "base_uri": "https://localhost:8080/"
        },
        "id": "c9ac554c",
        "outputId": "1eddf9b3-e7d1-449a-8f17-9f8ba83ef8b6"
      },
      "outputs": [
        {
          "output_type": "stream",
          "name": "stdout",
          "text": [
            "Enter the number: 0\n",
            "The number entered is zero\n"
          ]
        }
      ],
      "source": [
        "num=int(input('Enter the number: '));\n",
        "\n",
        "if num==0:\n",
        "    print('The number entered is zero');\n",
        "\n",
        "elif num%2==0:\n",
        "    print('The number entered is even');\n",
        "\n",
        "else:\n",
        "    print('The number is odd');\n"
      ]
    },
    {
      "cell_type": "code",
      "execution_count": null,
      "id": "2544d57d",
      "metadata": {
        "id": "2544d57d",
        "outputId": "861ec4bc-252e-4ef1-a1db-aaeecdc5b40e"
      },
      "outputs": [
        {
          "name": "stdout",
          "output_type": "stream",
          "text": [
            "Enter the number: 4\n",
            "The number entered is even\n"
          ]
        }
      ],
      "source": [
        "num=int(input('Enter the number: '));\n",
        "\n",
        "if num==0:\n",
        "    print('The number entered is zero');\n",
        "\n",
        "elif num%2==0:\n",
        "    print('The number entered is even');\n",
        "\n",
        "else:\n",
        "    print('The number is odd');"
      ]
    },
    {
      "cell_type": "code",
      "execution_count": null,
      "id": "84778275",
      "metadata": {
        "colab": {
          "base_uri": "https://localhost:8080/"
        },
        "id": "84778275",
        "outputId": "f8c2478e-63a1-43dd-8aba-d05aa9834623"
      },
      "outputs": [
        {
          "output_type": "stream",
          "name": "stdout",
          "text": [
            "Enter the number: 0\n",
            "The number entered is zero\n"
          ]
        }
      ],
      "source": [
        "num=int(input('Enter the number: '));\n",
        "\n",
        "if num==0:\n",
        "    print('The number entered is zero');\n",
        "\n",
        "elif num%2==0:\n",
        "    print('The number entered is even');\n",
        "\n",
        "else:\n",
        "    print('The number is odd');"
      ]
    },
    {
      "cell_type": "code",
      "execution_count": null,
      "id": "219c4a85",
      "metadata": {
        "id": "219c4a85",
        "outputId": "b5db8483-43c7-4e84-fa0d-109ef474f23e"
      },
      "outputs": [
        {
          "name": "stdout",
          "output_type": "stream",
          "text": [
            "Enter the number: 3.23456\n",
            "the decimal part of the number is 0.235\n"
          ]
        }
      ],
      "source": [
        "num=float(input('Enter the number: '));\n",
        "dec=num%1;\n",
        "\n",
        "if dec==0:\n",
        "    print('Integer');\n",
        "\n",
        "else:\n",
        "    print('the decimal part of the number is',round(dec,3));\n"
      ]
    },
    {
      "cell_type": "code",
      "execution_count": null,
      "id": "eba46266",
      "metadata": {
        "id": "eba46266",
        "outputId": "41221914-e14b-4487-eced-9204eef73b9e"
      },
      "outputs": [
        {
          "name": "stdout",
          "output_type": "stream",
          "text": [
            "Enter the number: 34\n",
            "Integer\n"
          ]
        }
      ],
      "source": [
        "num=float(input('Enter the number: '));\n",
        "dec=num%1;\n",
        "if dec==0:\n",
        "    print('Integer');\n",
        "\n",
        "else:\n",
        "    print('the decimal part of the number is',round(dec,3));"
      ]
    },
    {
      "cell_type": "code",
      "execution_count": null,
      "id": "e8ee7117",
      "metadata": {
        "id": "e8ee7117"
      },
      "outputs": [],
      "source": []
    }
  ],
  "metadata": {
    "kernelspec": {
      "display_name": "Python 3 (ipykernel)",
      "language": "python",
      "name": "python3"
    },
    "language_info": {
      "codemirror_mode": {
        "name": "ipython",
        "version": 3
      },
      "file_extension": ".py",
      "mimetype": "text/x-python",
      "name": "python",
      "nbconvert_exporter": "python",
      "pygments_lexer": "ipython3",
      "version": "3.9.12"
    },
    "colab": {
      "provenance": []
    }
  },
  "nbformat": 4,
  "nbformat_minor": 5
}